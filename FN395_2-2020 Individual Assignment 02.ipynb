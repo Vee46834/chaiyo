{
 "cells": [
  {
   "cell_type": "markdown",
   "metadata": {},
   "source": [
    "# FN395_2-2020 Individual Assignment 02\n",
    "\n",
    "### How smartphones know our movement?\n",
    "**Fill in your name, ID number and email below**"
   ]
  },
  {
   "cell_type": "code",
   "execution_count": null,
   "metadata": {},
   "outputs": [],
   "source": [
    "# Name: \n",
    "# Student ID number: \n",
    "# Email: "
   ]
  },
  {
   "cell_type": "markdown",
   "metadata": {},
   "source": [
    "According to UCI Machine Learning Repository, the given dataset \"Human Activity Recognition Using Smartphones Data Set\" was built from the recordings of 30 study participants performing activities of daily living (ADL) while carrying a waist-mounted smartphone with embedded inertial sensors. The objective is to classify activities into one of the six activities performed.\n",
    "\n",
    "There are six activities as follows:\n",
    "    1. WALKING\n",
    "    2. WALKING_UPSTAIRS\n",
    "    3. WALKING_DOWNSTAIRS\n",
    "    4. SITTING\n",
    "    5. STANDING\n",
    "    6. LAYING\n",
    "\n",
    "To open the given dataset, use the code below:"
   ]
  },
  {
   "cell_type": "code",
   "execution_count": null,
   "metadata": {},
   "outputs": [],
   "source": [
    "import pandas\n",
    "\n",
    "raw_train = pandas.read_csv(\"train.csv\")\n",
    "raw_test = pandas.read_csv(\"test.csv\")\n",
    "\n",
    "train_features  = raw_train.drop('Activity' , axis=1)\n",
    "train_labels = raw_train.Activity.values\n",
    "\n",
    "test_features  = raw_test.drop('Activity' , axis=1)\n",
    "test_labels = raw_test.Activity.values\n",
    "\n",
    "print(train_labels)\n",
    "train_features"
   ]
  },
  {
   "cell_type": "markdown",
   "metadata": {},
   "source": [
    "# Human Activity Recognition on Smartphones\n",
    "\n",
    "You are asked to create a machine learning model that can recognize 6 different body movements using sensors on smartphones. **You also have to write a report (PDF file format, 1 page maximum) which describes the following:**\n",
    "\n",
    "- How you preprocessed data (if any)\n",
    "- How you partitioned data\n",
    "- How you built a machine learning model\n",
    "- Which algorithms you've tried and which one gave you the best results\n",
    "- How you optimized the model\n",
    "- Discussion of your results\n",
    "\n",
    "Similar to the previous assignment, students are allowed to collaborate with other students and to find guidelines on the internet **but copying answers from other students or from the internet is considered plagiarism and will result in failing the course.**\n",
    "\n",
    "**The assignment grade will be based on whether you follow best practices for building a machine learning model.** A bonus point can be earned by trying new algorithms that haven't been mentioned in the class (but you have to use them in a proper way.) The deadline is 21th March 2021 23:59 PM. You have to send this .ipynb file and the report (no dataset required) to prab1991@protonmail.com with the email subject **and your .ipynb,.pdf files** constucted as follows:\n",
    "\n",
    "        HAR-BBA_ + Student_ID_number + your name\n",
    "        Email: HAR-BBA_5202465075PRAB\n",
    "        File: HAR-BBA_5202465075PRAB.ipynb\n",
    "        Report: HAR-BBA_5202465075PRAB.pdf\n",
    "\n"
   ]
  },
  {
   "cell_type": "code",
   "execution_count": null,
   "metadata": {},
   "outputs": [],
   "source": []
  },
  {
   "cell_type": "code",
   "execution_count": null,
   "metadata": {},
   "outputs": [],
   "source": []
  },
  {
   "cell_type": "code",
   "execution_count": null,
   "metadata": {},
   "outputs": [],
   "source": []
  }
 ],
 "metadata": {
  "kernelspec": {
   "display_name": "Python 3",
   "language": "python",
   "name": "python3"
  },
  "language_info": {
   "codemirror_mode": {
    "name": "ipython",
    "version": 3
   },
   "file_extension": ".py",
   "mimetype": "text/x-python",
   "name": "python",
   "nbconvert_exporter": "python",
   "pygments_lexer": "ipython3",
   "version": "3.8.5"
  }
 },
 "nbformat": 4,
 "nbformat_minor": 4
}
